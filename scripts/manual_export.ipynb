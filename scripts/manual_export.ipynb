{
 "cells": [
  {
   "cell_type": "markdown",
   "metadata": {},
   "source": [
    "Import packages that will be needed"
   ]
  },
  {
   "cell_type": "code",
   "execution_count": null,
   "metadata": {},
   "outputs": [],
   "source": [
    "import os\n",
    "import subprocess\n",
    "from tqdm.notebook import tqdm"
   ]
  },
  {
   "cell_type": "markdown",
   "metadata": {},
   "source": [
    "Define function to read file and run them through the pupil exportt  function"
   ]
  },
  {
   "cell_type": "code",
   "execution_count": null,
   "metadata": {},
   "outputs": [],
   "source": [
    "def export_recordings(base_path):\n",
    "    \"\"\"\n",
    "    This function exports recordings from each subdirectory in the given base path.\n",
    "    It specifically looks for subdirectories that end with 'P', 'p', 'C', or 'c'.\n",
    "    \"\"\"\n",
    "    all_dirs = [d for d in os.listdir(base_path) if os.path.isdir(os.path.join(base_path, d))]\n",
    "    for main_dir in tqdm(all_dirs, desc='Main Directories'):\n",
    "        main_dir_path = os.path.join(base_path, main_dir)\n",
    "        sub_dirs = [sd for sd in os.listdir(main_dir_path) if os.path.isdir(os.path.join(main_dir_path, sd))]\n",
    "        for sub_dir in tqdm(sub_dirs, desc=f'Subdirs in {main_dir}', leave=False):\n",
    "            # Check for 'P' or 'C' in any case\n",
    "            if 'P' in sub_dir.upper() or 'C' in sub_dir.upper():\n",
    "                sub_dir_path = os.path.join(main_dir_path, sub_dir)\n",
    "                command = f\"pl-rec-export {sub_dir_path}\"\n",
    "                try:\n",
    "                    # Run the command and check if it completes without errors\n",
    "                    subprocess.run(command, check=True, shell=True, stdout=subprocess.PIPE, stderr=subprocess.PIPE)\n",
    "                    print(f\"Export successful for {sub_dir_path}\")\n",
    "                except subprocess.CalledProcessError as e:\n",
    "                    print(f\"Error exporting {sub_dir_path}: {e}\")"
   ]
  },
  {
   "cell_type": "markdown",
   "metadata": {},
   "source": [
    "Set the main path were the videos are located"
   ]
  },
  {
   "cell_type": "code",
   "execution_count": null,
   "metadata": {},
   "outputs": [],
   "source": [
    "# Specify the base path where the folders are located\n",
    "base_path = '/path/to/your/folder'"
   ]
  },
  {
   "cell_type": "markdown",
   "metadata": {},
   "source": [
    "Run the function we created above with the path we just specified"
   ]
  },
  {
   "cell_type": "code",
   "execution_count": null,
   "metadata": {},
   "outputs": [],
   "source": [
    "export_recordings(base_path)"
   ]
  }
 ],
 "metadata": {
  "kernelspec": {
   "display_name": "base",
   "language": "python",
   "name": "python3"
  },
  "language_info": {
   "name": "python",
   "version": "3.9.16"
  }
 },
 "nbformat": 4,
 "nbformat_minor": 2
}
